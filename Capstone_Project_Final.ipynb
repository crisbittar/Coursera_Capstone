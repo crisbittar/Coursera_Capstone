{
 "cells": [
  {
   "cell_type": "code",
   "execution_count": 1,
   "metadata": {},
   "outputs": [
    {
     "name": "stdout",
     "output_type": "stream",
     "text": [
      "Hello Capstone Project Course!\n"
     ]
    }
   ],
   "source": [
    "\"\"\"\n",
    "Name: Ana Cristina Bitar de Oliveira\n",
    "Applied Data Science Capstone\n",
    "Notebook for the capstone project: Predictions about Collisions Severity in Seattle\n",
    "\n",
    "\n",
    "IBM Data Science Professional Certificate\n",
    "\n",
    "\"\"\"\n",
    "import pandas as pd\n",
    "import numpy as np\n",
    "\n",
    "print(\"Hello Capstone Project Course!\")"
   ]
  },
  {
   "cell_type": "code",
   "execution_count": 2,
   "metadata": {
    "scrolled": true
   },
   "outputs": [
    {
     "name": "stdout",
     "output_type": "stream",
     "text": [
      "<class 'pandas.core.frame.DataFrame'>\n",
      "RangeIndex: 221389 entries, 0 to 221388\n",
      "Data columns (total 20 columns):\n",
      " #   Column           Non-Null Count   Dtype  \n",
      "---  ------           --------------   -----  \n",
      " 0   X                213918 non-null  float64\n",
      " 1   Y                213918 non-null  float64\n",
      " 2   ADDRTYPE         217677 non-null  object \n",
      " 3   SEVERITYCODE     221388 non-null  object \n",
      " 4   SEVERITYDESC     221389 non-null  object \n",
      " 5   COLLISIONTYPE    195159 non-null  object \n",
      " 6   PERSONCOUNT      221389 non-null  int64  \n",
      " 7   PEDCOUNT         221389 non-null  int64  \n",
      " 8   PEDCYLCOUNT      221389 non-null  int64  \n",
      " 9   VEHCOUNT         221389 non-null  int64  \n",
      " 10  INJURIES         221389 non-null  int64  \n",
      " 11  SERIOUSINJURIES  221389 non-null  int64  \n",
      " 12  FATALITIES       221389 non-null  int64  \n",
      " 13  INCDTTM          221389 non-null  object \n",
      " 14  JUNCTIONTYPE     209417 non-null  object \n",
      " 15  UNDERINFL        195179 non-null  object \n",
      " 16  WEATHER          194969 non-null  object \n",
      " 17  ROADCOND         195050 non-null  object \n",
      " 18  LIGHTCOND        194880 non-null  object \n",
      " 19  HITPARKEDCAR     221389 non-null  object \n",
      "dtypes: float64(2), int64(7), object(11)\n",
      "memory usage: 33.8+ MB\n"
     ]
    }
   ],
   "source": [
    "#import csv file\n",
    "df= pd.read_csv('https://opendata.arcgis.com/datasets/5b5c745e0f1f48e7a53acec63a0022ab_0.csv')\n",
    "#df= pd.read_csv('Collisions.csv')\n",
    "#exclui colunas desnecessarias\n",
    "lista = ['OBJECTID','INCKEY', 'COLDETKEY', 'REPORTNO', 'STATUS', 'INTKEY', 'LOCATION', 'EXCEPTRSNCODE', 'EXCEPTRSNDESC']\n",
    "lista = lista + ['INCDATE', 'SDOT_COLCODE', 'SDOT_COLDESC','SDOTCOLNUM', 'ST_COLCODE', 'ST_COLDESC', 'SEGLANEKEY']\n",
    "lista = lista + ['CROSSWALKKEY','INATTENTIONIND', 'PEDROWNOTGRNT','SPEEDING']\n",
    "df.drop(axis='columns',labels=lista, inplace=True)\n",
    "df.info()"
   ]
  },
  {
   "cell_type": "code",
   "execution_count": 3,
   "metadata": {},
   "outputs": [],
   "source": [
    "#delete rows with SEVERITYCODE = 0 (Unknown)\n",
    "#gerar lista de indices\n",
    "lista = []\n",
    "for i in range(df.shape[0]):\n",
    "    Codigo = df['SEVERITYCODE'].iloc[i]\n",
    "    if Codigo == '0': \n",
    "       lista.append(i)\n",
    "df.drop(axis='index', labels=lista,inplace=True)"
   ]
  },
  {
   "cell_type": "code",
   "execution_count": 4,
   "metadata": {},
   "outputs": [
    {
     "name": "stdout",
     "output_type": "stream",
     "text": [
      "<class 'pandas.core.frame.DataFrame'>\n",
      "Int64Index: 199795 entries, 0 to 221388\n",
      "Data columns (total 20 columns):\n",
      " #   Column           Non-Null Count   Dtype  \n",
      "---  ------           --------------   -----  \n",
      " 0   X                194390 non-null  float64\n",
      " 1   Y                194390 non-null  float64\n",
      " 2   ADDRTYPE         197864 non-null  object \n",
      " 3   SEVERITYCODE     199794 non-null  object \n",
      " 4   SEVERITYDESC     199795 non-null  object \n",
      " 5   COLLISIONTYPE    195157 non-null  object \n",
      " 6   PERSONCOUNT      199795 non-null  int64  \n",
      " 7   PEDCOUNT         199795 non-null  int64  \n",
      " 8   PEDCYLCOUNT      199795 non-null  int64  \n",
      " 9   VEHCOUNT         199795 non-null  int64  \n",
      " 10  INJURIES         199795 non-null  int64  \n",
      " 11  SERIOUSINJURIES  199795 non-null  int64  \n",
      " 12  FATALITIES       199795 non-null  int64  \n",
      " 13  INCDTTM          199795 non-null  object \n",
      " 14  JUNCTIONTYPE     193414 non-null  object \n",
      " 15  UNDERINFL        195178 non-null  object \n",
      " 16  WEATHER          194967 non-null  object \n",
      " 17  ROADCOND         195048 non-null  object \n",
      " 18  LIGHTCOND        194878 non-null  object \n",
      " 19  HITPARKEDCAR     199795 non-null  object \n",
      "dtypes: float64(2), int64(7), object(11)\n",
      "memory usage: 32.0+ MB\n"
     ]
    }
   ],
   "source": [
    "df.info()"
   ]
  },
  {
   "cell_type": "code",
   "execution_count": 5,
   "metadata": {},
   "outputs": [],
   "source": [
    "#delete rows with empty cells for the main attributes\n",
    "df.dropna(subset = ['SEVERITYCODE','WEATHER','ROADCOND','LIGHTCOND'],axis=0, inplace=True, how='any')"
   ]
  },
  {
   "cell_type": "code",
   "execution_count": 6,
   "metadata": {},
   "outputs": [],
   "source": [
    "# Data Transformation\n",
    "# 1. Generate lists of tuples for further transformation\n",
    "roadcond = []\n",
    "cod = 0\n",
    "df['ROADCOND'] = df['ROADCOND'].replace(np.nan,'Unknown')\n",
    "for i in df['ROADCOND'].unique():\n",
    "    roadcond.append((i,cod))\n",
    "    cod = cod + 1\n",
    "\n",
    "lightcond = []\n",
    "cod = 0\n",
    "df['LIGHTCOND'] = df['LIGHTCOND'].replace(np.nan,'Unknown')\n",
    "for i in df['LIGHTCOND'].unique():\n",
    "    lightcond.append((i,cod))\n",
    "    cod = cod + 1\n",
    "\n",
    "weather = []\n",
    "cod = 0\n",
    "df['WEATHER'] = df['WEATHER'].replace(np.nan,'Unknown')\n",
    "for i in df['WEATHER'].unique():\n",
    "    weather.append((i,cod))\n",
    "    cod = cod + 1\n",
    "    \n",
    "junctiontype = []\n",
    "cod = 0\n",
    "df['JUNCTIONTYPE'] = df['JUNCTIONTYPE'].replace(np.nan,'Unknown')\n",
    "for i in df['JUNCTIONTYPE'].unique():\n",
    "    junctiontype.append((i,cod))\n",
    "    cod = cod + 1\n",
    "\n",
    "df['COLLISIONTYPE'] = df['COLLISIONTYPE'].replace(np.nan,'Unknown')\n",
    "collisiontype = []\n",
    "cod = 0\n",
    "for i in df['COLLISIONTYPE'].unique():\n",
    "    collisiontype.append((i,cod))\n",
    "    cod = cod + 1\n",
    "\n",
    "addresstype = []\n",
    "cod = 0\n",
    "df['ADDRTYPE'] = df['ADDRTYPE'].replace(np.nan,'Unknown')\n",
    "for i in df['ADDRTYPE'].unique():\n",
    "    addresstype.append((i,cod))\n",
    "    cod = cod + 1\n",
    "\n",
    "severitydesc = df['SEVERITYDESC'].unique()\n",
    "df.drop(axis=1, labels='SEVERITYDESC',inplace=True)"
   ]
  },
  {
   "cell_type": "code",
   "execution_count": 7,
   "metadata": {},
   "outputs": [],
   "source": [
    "# 2. Transform boolean\n",
    "df['UNDERINFL'] = df['UNDERINFL'].replace(['N','0'],False).astype('Bool')\n",
    "#df['PEDROWNOTGRNT'] = df['PEDROWNOTGRNT'].replace(np.nan,False).astype('Bool')\n",
    "#df['SPEEDING'] = df['SPEEDING'].replace(np.nan,False).astype('Bool')\n",
    "df['HITPARKEDCAR'] = df['HITPARKEDCAR'].replace('N',False).astype('Bool')"
   ]
  },
  {
   "cell_type": "code",
   "execution_count": 8,
   "metadata": {},
   "outputs": [],
   "source": [
    "# 3. Cathegorical to Values\n",
    "for i in roadcond:\n",
    "    df['ROADCOND'] = df['ROADCOND'].replace(i[0],i[1])\n",
    "for i in lightcond:\n",
    "    df['LIGHTCOND'] = df['LIGHTCOND'].replace(i[0],i[1])\n",
    "for i in weather:\n",
    "    df['WEATHER'] = df['WEATHER'].replace(i[0],i[1])\n",
    "for i in junctiontype:\n",
    "    df['JUNCTIONTYPE'] = df['JUNCTIONTYPE'].replace(i[0],i[1])\n",
    "for i in addresstype:\n",
    "    df['ADDRTYPE'] = df['ADDRTYPE'].replace(i[0],i[1])\n",
    "for i in collisiontype:\n",
    "    df['COLLISIONTYPE'] = df['COLLISIONTYPE'].replace(i[0],i[1])"
   ]
  },
  {
   "cell_type": "code",
   "execution_count": 9,
   "metadata": {},
   "outputs": [
    {
     "name": "stdout",
     "output_type": "stream",
     "text": [
      "<class 'pandas.core.frame.DataFrame'>\n",
      "Int64Index: 194697 entries, 0 to 221388\n",
      "Data columns (total 19 columns):\n",
      " #   Column           Non-Null Count   Dtype  \n",
      "---  ------           --------------   -----  \n",
      " 0   X                189455 non-null  float64\n",
      " 1   Y                189455 non-null  float64\n",
      " 2   ADDRTYPE         194697 non-null  int64  \n",
      " 3   SEVERITYCODE     194697 non-null  object \n",
      " 4   COLLISIONTYPE    194697 non-null  int64  \n",
      " 5   PERSONCOUNT      194697 non-null  int64  \n",
      " 6   PEDCOUNT         194697 non-null  int64  \n",
      " 7   PEDCYLCOUNT      194697 non-null  int64  \n",
      " 8   VEHCOUNT         194697 non-null  int64  \n",
      " 9   INJURIES         194697 non-null  int64  \n",
      " 10  SERIOUSINJURIES  194697 non-null  int64  \n",
      " 11  FATALITIES       194697 non-null  int64  \n",
      " 12  INCDTTM          194697 non-null  object \n",
      " 13  JUNCTIONTYPE     194697 non-null  int64  \n",
      " 14  UNDERINFL        194697 non-null  bool   \n",
      " 15  WEATHER          194697 non-null  int64  \n",
      " 16  ROADCOND         194697 non-null  int64  \n",
      " 17  LIGHTCOND        194697 non-null  int64  \n",
      " 18  HITPARKEDCAR     194697 non-null  bool   \n",
      "dtypes: bool(2), float64(2), int64(13), object(2)\n",
      "memory usage: 27.1+ MB\n"
     ]
    }
   ],
   "source": [
    "df.info()"
   ]
  },
  {
   "cell_type": "code",
   "execution_count": 17,
   "metadata": {},
   "outputs": [],
   "source": [
    "#undersampling\n",
    "#delete some rows with SEVERITYCODE = 1 and 2\n",
    "\n",
    "df.reset_index(inplace=True)\n",
    "\n",
    "#gerar lista de indices\n",
    "lista = []\n",
    "for i in range(int(df.shape[0]/2)):\n",
    "    Codigo = df['SEVERITYCODE'].iloc[i]\n",
    "    if Codigo == '1' or Codigo == '2': \n",
    "       lista.append(i)\n",
    "\n",
    "df.drop(axis='index', labels=lista,inplace=True)"
   ]
  },
  {
   "cell_type": "code",
   "execution_count": null,
   "metadata": {},
   "outputs": [],
   "source": [
    "\n"
   ]
  },
  {
   "cell_type": "code",
   "execution_count": 18,
   "metadata": {},
   "outputs": [],
   "source": [
    "# Decision Tree\n",
    "from sklearn.tree import DecisionTreeClassifier\n",
    "from sklearn.model_selection import train_test_split\n",
    "from sklearn import metrics\n",
    "\n",
    "#First attempt = no weight\n",
    "#df_dtree = df[['WEATHER', 'ROADCOND', 'LIGHTCOND']]\n",
    "\n",
    "#Using all the attributes\n",
    "df_dtree = df[['ADDRTYPE', 'COLLISIONTYPE','JUNCTIONTYPE','WEATHER', 'ROADCOND', 'LIGHTCOND', 'HITPARKEDCAR']]"
   ]
  },
  {
   "cell_type": "code",
   "execution_count": null,
   "metadata": {},
   "outputs": [],
   "source": []
  },
  {
   "cell_type": "code",
   "execution_count": 19,
   "metadata": {},
   "outputs": [],
   "source": [
    "X = df_dtree.values\n",
    "y = (df[['SEVERITYCODE']]).values\n",
    "\n",
    "#split Data 70% training 30% Test\n",
    "X_train, X_test, y_train, y_test = train_test_split(X, y, test_size=0.5, random_state=3)"
   ]
  },
  {
   "cell_type": "code",
   "execution_count": 20,
   "metadata": {},
   "outputs": [
    {
     "data": {
      "text/plain": [
       "DecisionTreeClassifier(criterion='entropy', max_depth=6)"
      ]
     },
     "execution_count": 20,
     "metadata": {},
     "output_type": "execute_result"
    }
   ],
   "source": [
    "Severity_Tree = DecisionTreeClassifier(criterion=\"entropy\", max_depth=6)\n",
    "Severity_Tree"
   ]
  },
  {
   "cell_type": "code",
   "execution_count": 21,
   "metadata": {},
   "outputs": [
    {
     "name": "stdout",
     "output_type": "stream",
     "text": [
      "Accuracy on severity predictions:  71.0 %\n"
     ]
    }
   ],
   "source": [
    "#Train\n",
    "Severity_Tree.fit(X_train,y_train)\n",
    "#Predict\n",
    "predtree = Severity_Tree.predict(X_test)\n",
    "#Evaluate Accuracy\n",
    "print(\"Accuracy on severity predictions: \", round(metrics.accuracy_score(y_test, predtree),2)*100,\"%\")"
   ]
  },
  {
   "cell_type": "code",
   "execution_count": 22,
   "metadata": {},
   "outputs": [
    {
     "name": "stdout",
     "output_type": "stream",
     "text": [
      "[32737, 15085, 1559, 165]\n",
      "[32292, 3121, 0, 0]\n",
      "Accuracy:  71.47 %\n"
     ]
    }
   ],
   "source": [
    "#Check accuracy for each level of severity\n",
    "#lists to store the results\n",
    "\n",
    "total = [0,0,0,0]\n",
    "total_acertos = [0,0,0,0]\n",
    "sev = ['1', '2', '2b', '3']\n",
    "\n",
    "for i in range(len(y_test)):\n",
    "    if y_test[i] == '1':\n",
    "        total[0] = total[0] + 1\n",
    "        if predtree[i] == '1': total_acertos[0] = total_acertos[0]+1\n",
    "    elif y_test[i] == '2':\n",
    "        total[1] = total[1] + 1\n",
    "        if predtree[i] == '2': total_acertos[1] = total_acertos[1]+1\n",
    "    elif y_test[i] == '2b':\n",
    "        total[2] = total[2] + 1\n",
    "        if predtree[i] == '2b': total_acertos[2] = total_acertos[2]+1\n",
    "    elif y_test[i] == '3':\n",
    "        total[3] = total[3] + 1\n",
    "        if predtree[i] == '3': total_acertos[3] = total_acertos[3]+1\n",
    "\n",
    "print(total)\n",
    "print(total_acertos)\n",
    "print('Accuracy: ', round(sum(total_acertos)/sum(total)*100,2), \"%\")\n",
    "    "
   ]
  },
  {
   "cell_type": "code",
   "execution_count": 23,
   "metadata": {},
   "outputs": [
    {
     "data": {
      "image/png": "[encoded data removed]",
      "text/plain": [
       "<Figure size 432x288 with 1 Axes>"
      ]
     },
     "metadata": {
      "needs_background": "light"
     },
     "output_type": "display_data"
    }
   ],
   "source": [
    "import matplotlib\n",
    "import matplotlib.pyplot as plt\n",
    "import numpy as np\n",
    "%matplotlib inline\n",
    "\n",
    "labels = sev\n",
    "\n",
    "x = np.arange(len(labels))  # the label locations\n",
    "width = 0.35  # the width of the bars\n",
    "\n",
    "fig, ax = plt.subplots()\n",
    "rects1 = ax.bar(x - width/2, total, width, label='Total Number of Observations')\n",
    "rects2 = ax.bar(x + width/2, total_acertos, width, label='Correct Predictions')\n",
    "\n",
    "# Add some text for labels, title and custom x-axis tick labels, etc.\n",
    "ax.set_ylabel('Number of records')\n",
    "ax.set_title('Accuracy by level of Severity')\n",
    "ax.set_xticks(x)\n",
    "ax.set_xticklabels(labels)\n",
    "ax.legend()\n",
    "\n",
    "\n",
    "def autolabel(rects):\n",
    "    \"\"\"Attach a text label above each bar in *rects*, displaying its height.\"\"\"\n",
    "    for rect in rects:\n",
    "        height = rect.get_height()\n",
    "        ax.annotate('{}'.format(height),\n",
    "                    xy=(rect.get_x() + rect.get_width() / 2, height),\n",
    "                    xytext=(0, 3),  # 3 points vertical offset\n",
    "                    textcoords=\"offset points\",\n",
    "                    ha='center', va='bottom')\n",
    "\n",
    "\n",
    "autolabel(rects1)\n",
    "autolabel(rects2)\n",
    "\n",
    "fig.tight_layout()\n",
    "\n",
    "plt.show()"
   ]
  },
  {
   "cell_type": "code",
   "execution_count": null,
   "metadata": {},
   "outputs": [],
   "source": []
  },
  {
   "cell_type": "code",
   "execution_count": null,
   "metadata": {},
   "outputs": [],
   "source": []
  },
  {
   "cell_type": "code",
   "execution_count": null,
   "metadata": {},
   "outputs": [],
   "source": []
  },
  {
   "cell_type": "code",
   "execution_count": null,
   "metadata": {},
   "outputs": [],
   "source": []
  },
  {
   "cell_type": "code",
   "execution_count": null,
   "metadata": {},
   "outputs": [],
   "source": []
  },
  {
   "cell_type": "code",
   "execution_count": null,
   "metadata": {},
   "outputs": [],
   "source": []
  },
  {
   "cell_type": "code",
   "execution_count": null,
   "metadata": {},
   "outputs": [],
   "source": []
  },
  {
   "cell_type": "code",
   "execution_count": null,
   "metadata": {},
   "outputs": [],
   "source": []
  },
  {
   "cell_type": "code",
   "execution_count": null,
   "metadata": {},
   "outputs": [],
   "source": []
  },
  {
   "cell_type": "code",
   "execution_count": null,
   "metadata": {},
   "outputs": [],
   "source": []
  }
 ],
 "metadata": {
  "kernelspec": {
   "display_name": "Python 3",
   "language": "python",
   "name": "python3"
  },
  "language_info": {
   "codemirror_mode": {
    "name": "ipython",
    "version": 3
   },
   "file_extension": ".py",
   "mimetype": "text/x-python",
   "name": "python",
   "nbconvert_exporter": "python",
   "pygments_lexer": "ipython3",
   "version": "3.8.3"
  }
 },
 "nbformat": 4,
 "nbformat_minor": 4
}
